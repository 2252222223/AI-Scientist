{
 "cells": [
  {
   "cell_type": "code",
   "execution_count": 1,
   "id": "c0107e78",
   "metadata": {},
   "outputs": [],
   "source": [
    "import sys\n",
    "sys.path.append (r'D:\\\\pycharm\\\\MatterAI-0816')\n",
    "from CEO.Base.CEO_sk import sk\n",
    "import openai\n",
    "import os\n",
    "os.environ['OPENAI_API_KEY'] = sk"
   ]
  },
  {
   "cell_type": "code",
   "execution_count": 2,
   "id": "a0634cf5",
   "metadata": {},
   "outputs": [],
   "source": [
    "from dotenv import load_dotenv, find_dotenv\n",
    "import pandas as pd"
   ]
  },
  {
   "cell_type": "code",
   "execution_count": 21,
   "id": "b57223d1",
   "metadata": {},
   "outputs": [
    {
     "data": {
      "text/plain": [
       "False"
      ]
     },
     "execution_count": 21,
     "metadata": {},
     "output_type": "execute_result"
    }
   ],
   "source": [
    "load_dotenv(find_dotenv())"
   ]
  },
  {
   "cell_type": "code",
   "execution_count": 4,
   "id": "d98b5e95",
   "metadata": {},
   "outputs": [],
   "source": [
    "from langchain.chat_models import ChatOpenAI\n",
    "from langchain.agents import create_pandas_dataframe_agent"
   ]
  },
  {
   "cell_type": "code",
   "execution_count": 5,
   "id": "63e37bc9",
   "metadata": {},
   "outputs": [],
   "source": [
    "df = pd.read_excel(\"./CO2.xlsx\")"
   ]
  },
  {
   "cell_type": "code",
   "execution_count": 22,
   "id": "6546d527",
   "metadata": {},
   "outputs": [],
   "source": [
    "import langchain\n",
    "\n",
    "# print(CEO_agent.Expert_experience)\n",
    "langchain.debug = True"
   ]
  },
  {
   "cell_type": "code",
   "execution_count": 23,
   "id": "7314254f",
   "metadata": {},
   "outputs": [],
   "source": [
    "llm = ChatOpenAI(model_name = \"gpt-4-0613\" ,temperature=0 ,max_tokens=1000,openai_api_key= sk)"
   ]
  },
  {
   "cell_type": "code",
   "execution_count": 24,
   "id": "c11f2c4a",
   "metadata": {},
   "outputs": [],
   "source": [
    "agent = create_pandas_dataframe_agent(llm,df,verbose = True)"
   ]
  },
  {
   "cell_type": "code",
   "execution_count": 26,
   "id": "91d988f5",
   "metadata": {},
   "outputs": [
    {
     "name": "stdout",
     "output_type": "stream",
     "text": [
      "\u001b[32;1m\u001b[1;3m[chain/start]\u001b[0m \u001b[1m[1:chain:AgentExecutor] Entering Chain run with input:\n",
      "\u001b[0m{\n",
      "  \"input\": \"What is the average of CO2\"\n",
      "}\n",
      "\u001b[32;1m\u001b[1;3m[chain/start]\u001b[0m \u001b[1m[1:chain:AgentExecutor > 2:chain:LLMChain] Entering Chain run with input:\n",
      "\u001b[0m{\n",
      "  \"input\": \"What is the average of CO2\",\n",
      "  \"agent_scratchpad\": \"\",\n",
      "  \"stop\": [\n",
      "    \"\\nObservation:\",\n",
      "    \"\\n\\tObservation:\"\n",
      "  ]\n",
      "}\n",
      "\u001b[32;1m\u001b[1;3m[llm/start]\u001b[0m \u001b[1m[1:chain:AgentExecutor > 2:chain:LLMChain > 3:llm:ChatOpenAI] Entering LLM run with input:\n",
      "\u001b[0m{\n",
      "  \"prompts\": [\n",
      "    \"Human: \\nYou are working with a pandas dataframe in Python. The name of the dataframe is `df`.\\nYou should use the tools below to answer the question posed of you:\\n\\npython_repl_ast: A Python shell. Use this to execute python commands. Input should be a valid python command. When using this tool, sometimes output is abbreviated - make sure it does not look abbreviated before using it in your answer.\\n\\nUse the following format:\\n\\nQuestion: the input question you must answer\\nThought: you should always think about what to do\\nAction: the action to take, should be one of [python_repl_ast]\\nAction Input: the input to the action\\nObservation: the result of the action\\n... (this Thought/Action/Action Input/Observation can repeat N times)\\nThought: I now know the final answer\\nFinal Answer: the final answer to the original input question\\n\\n\\nThis is the result of `print(df.head())`:\\n|    |   Sbet |   Vt |   Vm |    Vu |    O |    N |   T |    P |   CO2 |\\n|---:|-------:|-----:|-----:|------:|-----:|-----:|----:|-----:|------:|\\n|  0 |   2690 | 1.36 | 0.91 | 0.212 | 8.23 | 1.33 |  25 | 0.03 |  0.13 |\\n|  1 |   2690 | 1.36 | 0.91 | 0.212 | 8.23 | 1.33 |  25 | 0.05 |  0.24 |\\n|  2 |   2690 | 1.36 | 0.91 | 0.212 | 8.23 | 1.33 |  25 | 0.08 |  0.36 |\\n|  3 |   2690 | 1.36 | 0.91 | 0.212 | 8.23 | 1.33 |  25 | 0.1  |  0.47 |\\n|  4 |   2690 | 1.36 | 0.91 | 0.212 | 8.23 | 1.33 |  25 | 0.13 |  0.58 |\\n\\nBegin!\\nQuestion: What is the average of CO2\"\n",
      "  ]\n",
      "}\n",
      "\u001b[36;1m\u001b[1;3m[llm/end]\u001b[0m \u001b[1m[1:chain:AgentExecutor > 2:chain:LLMChain > 3:llm:ChatOpenAI] [6.72s] Exiting LLM run with output:\n",
      "\u001b[0m{\n",
      "  \"generations\": [\n",
      "    [\n",
      "      {\n",
      "        \"text\": \"Thought: To find the average of a column in a pandas dataframe, we can use the `mean()` function on that specific column.\\nAction: python_repl_ast\\nAction Input: df['CO2'].mean()\",\n",
      "        \"generation_info\": {\n",
      "          \"finish_reason\": \"stop\"\n",
      "        },\n",
      "        \"message\": {\n",
      "          \"lc\": 1,\n",
      "          \"type\": \"constructor\",\n",
      "          \"id\": [\n",
      "            \"langchain\",\n",
      "            \"schema\",\n",
      "            \"messages\",\n",
      "            \"AIMessage\"\n",
      "          ],\n",
      "          \"kwargs\": {\n",
      "            \"content\": \"Thought: To find the average of a column in a pandas dataframe, we can use the `mean()` function on that specific column.\\nAction: python_repl_ast\\nAction Input: df['CO2'].mean()\",\n",
      "            \"additional_kwargs\": {}\n",
      "          }\n",
      "        }\n",
      "      }\n",
      "    ]\n",
      "  ],\n",
      "  \"llm_output\": {\n",
      "    \"token_usage\": {\n",
      "      \"prompt_tokens\": 527,\n",
      "      \"completion_tokens\": 44,\n",
      "      \"total_tokens\": 571\n",
      "    },\n",
      "    \"model_name\": \"gpt-4-0613\"\n",
      "  },\n",
      "  \"run\": null\n",
      "}\n",
      "\u001b[36;1m\u001b[1;3m[chain/end]\u001b[0m \u001b[1m[1:chain:AgentExecutor > 2:chain:LLMChain] [6.72s] Exiting Chain run with output:\n",
      "\u001b[0m{\n",
      "  \"text\": \"Thought: To find the average of a column in a pandas dataframe, we can use the `mean()` function on that specific column.\\nAction: python_repl_ast\\nAction Input: df['CO2'].mean()\"\n",
      "}\n",
      "\u001b[32;1m\u001b[1;3m[tool/start]\u001b[0m \u001b[1m[1:chain:AgentExecutor > 4:tool:python_repl_ast] Entering Tool run with input:\n",
      "\u001b[0m\"df['CO2'].mean()\"\n",
      "\u001b[36;1m\u001b[1;3m[tool/end]\u001b[0m \u001b[1m[1:chain:AgentExecutor > 4:tool:python_repl_ast] [1ms] Exiting Tool run with output:\n",
      "\u001b[0m\"2.367705254515599\"\n",
      "\u001b[32;1m\u001b[1;3m[chain/start]\u001b[0m \u001b[1m[1:chain:AgentExecutor > 5:chain:LLMChain] Entering Chain run with input:\n",
      "\u001b[0m{\n",
      "  \"input\": \"What is the average of CO2\",\n",
      "  \"agent_scratchpad\": \"Thought: To find the average of a column in a pandas dataframe, we can use the `mean()` function on that specific column.\\nAction: python_repl_ast\\nAction Input: df['CO2'].mean()\\nObservation: 2.367705254515599\\nThought:\",\n",
      "  \"stop\": [\n",
      "    \"\\nObservation:\",\n",
      "    \"\\n\\tObservation:\"\n",
      "  ]\n",
      "}\n",
      "\u001b[32;1m\u001b[1;3m[llm/start]\u001b[0m \u001b[1m[1:chain:AgentExecutor > 5:chain:LLMChain > 6:llm:ChatOpenAI] Entering LLM run with input:\n",
      "\u001b[0m{\n",
      "  \"prompts\": [\n",
      "    \"Human: \\nYou are working with a pandas dataframe in Python. The name of the dataframe is `df`.\\nYou should use the tools below to answer the question posed of you:\\n\\npython_repl_ast: A Python shell. Use this to execute python commands. Input should be a valid python command. When using this tool, sometimes output is abbreviated - make sure it does not look abbreviated before using it in your answer.\\n\\nUse the following format:\\n\\nQuestion: the input question you must answer\\nThought: you should always think about what to do\\nAction: the action to take, should be one of [python_repl_ast]\\nAction Input: the input to the action\\nObservation: the result of the action\\n... (this Thought/Action/Action Input/Observation can repeat N times)\\nThought: I now know the final answer\\nFinal Answer: the final answer to the original input question\\n\\n\\nThis is the result of `print(df.head())`:\\n|    |   Sbet |   Vt |   Vm |    Vu |    O |    N |   T |    P |   CO2 |\\n|---:|-------:|-----:|-----:|------:|-----:|-----:|----:|-----:|------:|\\n|  0 |   2690 | 1.36 | 0.91 | 0.212 | 8.23 | 1.33 |  25 | 0.03 |  0.13 |\\n|  1 |   2690 | 1.36 | 0.91 | 0.212 | 8.23 | 1.33 |  25 | 0.05 |  0.24 |\\n|  2 |   2690 | 1.36 | 0.91 | 0.212 | 8.23 | 1.33 |  25 | 0.08 |  0.36 |\\n|  3 |   2690 | 1.36 | 0.91 | 0.212 | 8.23 | 1.33 |  25 | 0.1  |  0.47 |\\n|  4 |   2690 | 1.36 | 0.91 | 0.212 | 8.23 | 1.33 |  25 | 0.13 |  0.58 |\\n\\nBegin!\\nQuestion: What is the average of CO2\\nThought: To find the average of a column in a pandas dataframe, we can use the `mean()` function on that specific column.\\nAction: python_repl_ast\\nAction Input: df['CO2'].mean()\\nObservation: 2.367705254515599\\nThought:\"\n",
      "  ]\n",
      "}\n",
      "\u001b[36;1m\u001b[1;3m[llm/end]\u001b[0m \u001b[1m[1:chain:AgentExecutor > 5:chain:LLMChain > 6:llm:ChatOpenAI] [6.06s] Exiting LLM run with output:\n",
      "\u001b[0m{\n",
      "  \"generations\": [\n",
      "    [\n",
      "      {\n",
      "        \"text\": \"I now know the final answer\\nFinal Answer: The average of CO2 is approximately 2.37.\",\n",
      "        \"generation_info\": {\n",
      "          \"finish_reason\": \"stop\"\n",
      "        },\n",
      "        \"message\": {\n",
      "          \"lc\": 1,\n",
      "          \"type\": \"constructor\",\n",
      "          \"id\": [\n",
      "            \"langchain\",\n",
      "            \"schema\",\n",
      "            \"messages\",\n",
      "            \"AIMessage\"\n",
      "          ],\n",
      "          \"kwargs\": {\n",
      "            \"content\": \"I now know the final answer\\nFinal Answer: The average of CO2 is approximately 2.37.\",\n",
      "            \"additional_kwargs\": {}\n",
      "          }\n",
      "        }\n",
      "      }\n",
      "    ]\n",
      "  ],\n",
      "  \"llm_output\": {\n",
      "    \"token_usage\": {\n",
      "      \"prompt_tokens\": 585,\n",
      "      \"completion_tokens\": 22,\n",
      "      \"total_tokens\": 607\n",
      "    },\n",
      "    \"model_name\": \"gpt-4-0613\"\n",
      "  },\n",
      "  \"run\": null\n",
      "}\n",
      "\u001b[36;1m\u001b[1;3m[chain/end]\u001b[0m \u001b[1m[1:chain:AgentExecutor > 5:chain:LLMChain] [6.06s] Exiting Chain run with output:\n",
      "\u001b[0m{\n",
      "  \"text\": \"I now know the final answer\\nFinal Answer: The average of CO2 is approximately 2.37.\"\n",
      "}\n",
      "\u001b[36;1m\u001b[1;3m[chain/end]\u001b[0m \u001b[1m[1:chain:AgentExecutor] [12.78s] Exiting Chain run with output:\n",
      "\u001b[0m{\n",
      "  \"output\": \"The average of CO2 is approximately 2.37.\"\n",
      "}\n"
     ]
    }
   ],
   "source": [
    "a = agent.run(\"What is the average of CO2\")"
   ]
  },
  {
   "cell_type": "code",
   "execution_count": 27,
   "id": "a673f906",
   "metadata": {},
   "outputs": [
    {
     "data": {
      "text/plain": [
       "'The average of CO2 is approximately 2.37.'"
      ]
     },
     "execution_count": 27,
     "metadata": {},
     "output_type": "execute_result"
    }
   ],
   "source": [
    "a"
   ]
  },
  {
   "cell_type": "code",
   "execution_count": null,
   "id": "d0fd40b9",
   "metadata": {},
   "outputs": [],
   "source": []
  }
 ],
 "metadata": {
  "kernelspec": {
   "display_name": "MatterAI",
   "language": "python",
   "name": "matterai"
  },
  "language_info": {
   "codemirror_mode": {
    "name": "ipython",
    "version": 3
   },
   "file_extension": ".py",
   "mimetype": "text/x-python",
   "name": "python",
   "nbconvert_exporter": "python",
   "pygments_lexer": "ipython3",
   "version": "3.9.17"
  }
 },
 "nbformat": 4,
 "nbformat_minor": 5
}
